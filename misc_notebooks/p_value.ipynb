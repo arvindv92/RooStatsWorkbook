{
 "cells": [
  {
   "cell_type": "code",
   "execution_count": 1,
   "metadata": {},
   "outputs": [],
   "source": [
    "from scipy import stats\n",
    "import numpy as np\n",
    "import matplotlib.pyplot as plt\n",
    "%matplotlib inline"
   ]
  },
  {
   "cell_type": "code",
   "execution_count": 2,
   "metadata": {},
   "outputs": [],
   "source": [
    "def welch_t(a, b):\n",
    "    \"\"\" Calculate the t statistic for two samples. \"\"\"\n",
    "    diff = a.mean() - b.mean()\n",
    "    var = np.sqrt(a.var(ddof=1)/a.size + b.var(ddof=1)/b.size)\n",
    "    return diff/var\n",
    "\n",
    "def welch_df(a, b):\n",
    "    \"\"\" Calculate the effective degrees of freedom for two samples. \"\"\"\n",
    "    s_a, s_b = a.var(ddof=1), b.var(ddof=1)\n",
    "    n_a, n_b = a.size, b.size\n",
    "    numer = (s_a/n_a + s_b/n_b)**2\n",
    "    denom = (s_a/ n_a)**2/(n_a - 1) + (s_b/ n_b)**2/(n_b - 1)\n",
    "    return numer/denom"
   ]
  },
  {
   "cell_type": "code",
   "execution_count": 3,
   "metadata": {},
   "outputs": [],
   "source": [
    "control = np.random.randn(8)*1.5 + 2\n",
    "treatment = np.random.randn(12) + 3\n",
    "\n",
    "df = welch_df(treatment, control)\n",
    "t = welch_t(treatment, control)"
   ]
  },
  {
   "cell_type": "code",
   "execution_count": 4,
   "metadata": {},
   "outputs": [
    {
     "data": {
      "text/plain": [
       "<matplotlib.legend.Legend at 0x7f80de1d4810>"
      ]
     },
     "execution_count": 4,
     "metadata": {},
     "output_type": "execute_result"
    },
    {
     "data": {
      "image/png": "[encoded data removed]",
      "text/plain": [
       "<matplotlib.figure.Figure at 0x7f80de1d4190>"
      ]
     },
     "metadata": {},
     "output_type": "display_data"
    }
   ],
   "source": [
    "fig, ax = plt.subplots()\n",
    "x = np.linspace(0, 4, 100)\n",
    "t_dist = stats.t.pdf(x, df)\n",
    "ft = ax.plot(x, t_dist, label=r'f(t$_\\mu$|$\\mu$)')\n",
    "meas = ax.vlines(t, 0, 0.4, linestyles='--', color='k', \n",
    "          label= r't$_{\\mu ,obs}$='+'{:.3f}'.format(t))\n",
    "ax.set_ylabel('pdf(t)')\n",
    "ax.set_xlabel('t')\n",
    "ax.set_ylim(0, 0.55)\n",
    "p = 1. - stats.t.cdf(t,df)\n",
    "ax.fill_between(x, 0, t_dist, where=(x >= t), color='darkblue', alpha=0.5, label='p-value = {:.04f}'.format(p))\n",
    "ax.legend(loc=1,fontsize=15, frameon=False)"
   ]
  },
  {
   "cell_type": "code",
   "execution_count": 5,
   "metadata": {},
   "outputs": [
    {
     "data": {
      "text/plain": [
       "<matplotlib.figure.Figure at 0x7f80de1be790>"
      ]
     },
     "metadata": {},
     "output_type": "display_data"
    }
   ],
   "source": [
    "plt.savefig(\"../docs/source/stats-fig03.png\")"
   ]
  }
 ],
 "metadata": {
  "kernelspec": {
   "display_name": "Python 2",
   "language": "python",
   "name": "python2"
  },
  "language_info": {
   "codemirror_mode": {
    "name": "ipython",
    "version": 2
   },
   "file_extension": ".py",
   "mimetype": "text/x-python",
   "name": "python",
   "nbconvert_exporter": "python",
   "pygments_lexer": "ipython2",
   "version": "2.7.13"
  }
 },
 "nbformat": 4,
 "nbformat_minor": 2
}
