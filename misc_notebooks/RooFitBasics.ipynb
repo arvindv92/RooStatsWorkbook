{
 "cells": [
  {
   "cell_type": "code",
   "execution_count": 1,
   "metadata": {
    "scrolled": true
   },
   "outputs": [
    {
     "name": "stdout",
     "output_type": "stream",
     "text": [
      "\n",
      "\u001b[1mRooFit v3.60 -- Developed by Wouter Verkerke and David Kirkby\u001b[0m \n",
      "                Copyright (C) 2000-2013 NIKHEF, University of California & Stanford University\n",
      "                All rights reserved, please read http://roofit.sourceforge.net/license.txt\n",
      "\n"
     ]
    }
   ],
   "source": [
    "// Construct a Gaussian probability density model\n",
    "RooRealVar x(\"x\",\"x\",0,-10,10) ;\n",
    "RooRealVar mean(\"mean\",\"Mean of Gaussian\",0,-10,10) ;\n",
    "RooRealVar width(\"width\",\"With of Gaussian\",3,0.1,10) ;\n",
    "RooGaussian g(\"g\",\"Gaussian\",x, mean,width) ;\n",
    "\n",
    "// Construct a Poisson probability model\n",
    "RooRealVar n(\"n\",\"Observed event cont\",0,0,100) ;\n",
    "RooRealVar mu(\"mu\",\"Expected event count\",10,0,100) ;\n",
    "RooPoisson p(\"p\",\"Poisson\",n, mu) ;"
   ]
  },
  {
   "cell_type": "code",
   "execution_count": 2,
   "metadata": {
    "scrolled": true
   },
   "outputs": [
    {
     "name": "stdout",
     "output_type": "stream",
     "text": [
      "[#1] INFO:Minization -- RooMinimizer::optimizeConst: activating const optimization\n",
      " **********\n",
      " **    1 **SET PRINT           1\n",
      " **********\n",
      " **********\n",
      " **    2 **SET NOGRAD\n",
      " **********\n",
      " PARAMETER DEFINITIONS:\n",
      "    NO.   NAME         VALUE      STEP SIZE      LIMITS\n",
      "     1 mean         0.00000e+00  2.00000e+00   -1.00000e+01  1.00000e+01\n",
      "     2 width        3.00000e+00  9.90000e-01    1.00000e-01  1.00000e+01\n",
      " **********\n",
      " **    3 **SET ERR         0.5\n",
      " **********\n",
      " **********\n",
      " **    4 **SET PRINT           1\n",
      " **********\n",
      " **********\n",
      " **    5 **SET STR           1\n",
      " **********\n",
      " NOW USING STRATEGY  1: TRY TO BALANCE SPEED AGAINST RELIABILITY\n",
      " **********\n",
      " **    6 **MIGRAD        1000           1\n",
      " **********\n",
      " FIRST CALL TO USER FUNCTION AT NEW START POINT, WITH IFLAG=4.\n",
      " START MIGRAD MINIMIZATION.  STRATEGY  1.  CONVERGENCE WHEN EDM .LT. 1.00e-03\n",
      " FCN=25056.1 FROM MIGRAD    STATUS=INITIATE       10 CALLS          11 TOTAL\n",
      "                     EDM= unknown      STRATEGY= 1      NO ERROR MATRIX       \n",
      "  EXT PARAMETER               CURRENT GUESS       STEP         FIRST   \n",
      "  NO.   NAME      VALUE            ERROR          SIZE      DERIVATIVE \n",
      "   1  mean         0.00000e+00   2.00000e+00   2.01358e-01  -1.89633e+02\n",
      "   2  width        3.00000e+00   9.90000e-01   2.22742e-01   1.78222e+02\n",
      "                               ERR DEF= 0.5\n",
      " MIGRAD MINIMIZATION HAS CONVERGED.\n",
      " MIGRAD WILL VERIFY CONVERGENCE AND ERROR MATRIX.\n",
      " COVARIANCE MATRIX CALCULATED SUCCESSFULLY\n",
      " FCN=25055.6 FROM MIGRAD    STATUS=CONVERGED      32 CALLS          33 TOTAL\n",
      "                     EDM=7.27011e-08    STRATEGY= 1      ERROR MATRIX ACCURATE \n",
      "  EXT PARAMETER                                   STEP         FIRST   \n",
      "  NO.   NAME      VALUE            ERROR          SIZE      DERIVATIVE \n",
      "   1  mean         1.72335e-02   2.99542e-02   3.27389e-04   3.36763e-03\n",
      "   2  width        2.98094e+00   2.17308e-02   5.28118e-04   5.57540e-02\n",
      "                               ERR DEF= 0.5\n",
      " EXTERNAL ERROR MATRIX.    NDIM=  25    NPAR=  2    ERR DEF=0.5\n",
      "  8.973e-04  8.173e-07 \n",
      "  8.173e-07  4.722e-04 \n",
      " PARAMETER  CORRELATION COEFFICIENTS  \n",
      "       NO.  GLOBAL      1      2\n",
      "        1  0.00126   1.000  0.001\n",
      "        2  0.00126   0.001  1.000\n",
      " **********\n",
      " **    7 **SET ERR         0.5\n",
      " **********\n",
      " **********\n",
      " **    8 **SET PRINT           1\n",
      " **********\n",
      " **********\n",
      " **    9 **HESSE        1000\n",
      " **********\n"
     ]
    },
    {
     "data": {
      "image/png": "[encoded data removed]",
      "text/plain": [
       "<IPython.core.display.Image object>"
      ]
     },
     "metadata": {},
     "output_type": "display_data"
    },
    {
     "name": "stdout",
     "output_type": "stream",
     "text": [
      " COVARIANCE MATRIX CALCULATED SUCCESSFULLY\n",
      " FCN=25055.6 FROM HESSE     STATUS=OK             10 CALLS          43 TOTAL\n",
      "                     EDM=7.27522e-08    STRATEGY= 1      ERROR MATRIX ACCURATE \n",
      "  EXT PARAMETER                                INTERNAL      INTERNAL  \n",
      "  NO.   NAME      VALUE            ERROR       STEP SIZE       VALUE   \n",
      "   1  mean         1.72335e-02   2.99542e-02   6.54778e-05   1.72335e-03\n",
      "   2  width        2.98094e+00   2.17307e-02   2.11247e-05  -4.31233e-01\n",
      "                               ERR DEF= 0.5\n",
      " EXTERNAL ERROR MATRIX.    NDIM=  25    NPAR=  2    ERR DEF=0.5\n",
      "  8.973e-04  3.819e-07 \n",
      "  3.819e-07  4.722e-04 \n",
      " PARAMETER  CORRELATION COEFFICIENTS  \n",
      "       NO.  GLOBAL      1      2\n",
      "        1  0.00059   1.000  0.001\n",
      "        2  0.00059   0.001  1.000\n",
      "[#1] INFO:Minization -- RooMinimizer::optimizeConst: deactivating const optimization\n"
     ]
    }
   ],
   "source": [
    "TCanvas* c1 = new TCanvas();\n",
    "// generate unbnined dataset of 10k events\n",
    "RooDataSet* toyData = g.generate(x,10000) ;\n",
    "\n",
    "// Perform unbinned ML fit to toy data\n",
    "g.fitTo(*toyData) ;\n",
    "\n",
    "// Plot toy data and pdf in observable x\n",
    "RooPlot* frame = x.frame() ;\n",
    "toyData->plotOn(frame) ;\n",
    "g.plotOn(frame) ;\n",
    "frame->Draw() ;\n",
    "c1->Draw() ;"
   ]
  },
  {
   "cell_type": "code",
   "execution_count": 3,
   "metadata": {},
   "outputs": [
    {
     "name": "stderr",
     "output_type": "stream",
     "text": [
      "Info in <TCanvas::Print>: png file ../docs/source/docs-fig01.png has been created\n"
     ]
    }
   ],
   "source": [
    "c1->SaveAs(\"../docs/source/docs-fig01.png\");"
   ]
  },
  {
   "cell_type": "code",
   "execution_count": 4,
   "metadata": {
    "scrolled": false
   },
   "outputs": [
    {
     "name": "stdout",
     "output_type": "stream",
     "text": [
      " **********\n",
      " **   10 **SET PRINT           1\n",
      " **********\n",
      " **********\n",
      " **   11 **SET NOGRAD\n",
      " **********\n",
      " PARAMETER DEFINITIONS:\n",
      "    NO.   NAME         VALUE      STEP SIZE      LIMITS\n",
      "     1 mean         1.72335e-02  2.99542e-02   -1.00000e+01  1.00000e+01\n",
      "     2 width        2.98094e+00  2.17307e-02    1.00000e-01  1.00000e+01\n",
      " **********\n",
      " **   12 **SET ERR         0.5\n",
      " **********\n",
      " **********\n",
      " **   13 **SET PRINT           1\n",
      " **********\n",
      " **********\n",
      " **   14 **SET STR           1\n",
      " **********\n",
      " NOW USING STRATEGY  1: TRY TO BALANCE SPEED AGAINST RELIABILITY\n",
      " **********\n",
      " **   15 **MIGRAD        1000           1\n",
      " **********\n",
      " FIRST CALL TO USER FUNCTION AT NEW START POINT, WITH IFLAG=4.\n",
      " START MIGRAD MINIMIZATION.  STRATEGY  1.  CONVERGENCE WHEN EDM .LT. 1.00e-03\n",
      " FCN=25055.6 FROM MIGRAD    STATUS=INITIATE        4 CALLS           5 TOTAL\n",
      "                     EDM= unknown      STRATEGY= 1      NO ERROR MATRIX       \n",
      "  EXT PARAMETER               CURRENT GUESS       STEP         FIRST   \n",
      "  NO.   NAME      VALUE            ERROR          SIZE      DERIVATIVE \n",
      "   1  mean         1.72335e-02   2.99542e-02   2.99543e-03   3.35475e-03\n",
      "   2  width        2.98094e+00   2.17307e-02   4.83249e-03   4.19125e-02\n",
      "                               ERR DEF= 0.5\n",
      " MIGRAD MINIMIZATION HAS CONVERGED.\n",
      " MIGRAD WILL VERIFY CONVERGENCE AND ERROR MATRIX.\n",
      " COVARIANCE MATRIX CALCULATED SUCCESSFULLY\n",
      " FCN=25055.6 FROM MIGRAD    STATUS=CONVERGED      23 CALLS          24 TOTAL\n",
      "                     EDM=1.62928e-11    STRATEGY= 1      ERROR MATRIX ACCURATE \n",
      "  EXT PARAMETER                                   STEP         FIRST   \n",
      "  NO.   NAME      VALUE            ERROR          SIZE      DERIVATIVE \n",
      "   1  mean         1.72331e-02   2.99541e-02   3.27416e-04  -1.05623e-03\n",
      "   2  width        2.98094e+00   2.17306e-02   5.28215e-04  -5.17873e-04\n",
      "                               ERR DEF= 0.5\n",
      " EXTERNAL ERROR MATRIX.    NDIM=  25    NPAR=  2    ERR DEF=0.5\n",
      "  8.973e-04  8.172e-07 \n",
      "  8.172e-07  4.722e-04 \n",
      " PARAMETER  CORRELATION COEFFICIENTS  \n",
      "       NO.  GLOBAL      1      2\n",
      "        1  0.00126   1.000  0.001\n",
      "        2  0.00126   0.001  1.000\n",
      " **********\n",
      " **   16 **SET ERR         0.5\n",
      " **********\n",
      " **********\n",
      " **   17 **SET PRINT           1\n",
      " **********\n",
      " **********\n",
      " **   18 **HESSE        1000\n",
      " **********\n",
      " COVARIANCE MATRIX CALCULATED SUCCESSFULLY\n",
      " FCN=25055.6 FROM HESSE     STATUS=OK             12 CALLS          36 TOTAL\n",
      "                     EDM=1.00298e-11    STRATEGY= 1      ERROR MATRIX ACCURATE \n",
      "  EXT PARAMETER                                INTERNAL      INTERNAL  \n",
      "  NO.   NAME      VALUE            ERROR       STEP SIZE       VALUE   \n",
      "   1  mean         1.72331e-02   2.99541e-02   6.54833e-05   1.72331e-03\n",
      "   2  width        2.98094e+00   2.17306e-02   1.05643e-04  -4.31234e-01\n",
      "                               ERR DEF= 0.5\n",
      " EXTERNAL ERROR MATRIX.    NDIM=  25    NPAR=  2    ERR DEF=0.5\n",
      "  8.973e-04  3.818e-07 \n",
      "  3.818e-07  4.722e-04 \n",
      " PARAMETER  CORRELATION COEFFICIENTS  \n",
      "       NO.  GLOBAL      1      2\n",
      "        1  0.00059   1.000  0.001\n",
      "        2  0.00059   0.001  1.000\n",
      "RooRealVar::mean = 0.0172331 +/- 0.0299541  L(-10 - 10) \n",
      "RooRealVar::width = 2.98094 +/- 0.0217306  L(0.1 - 10) \n"
     ]
    },
    {
     "data": {
      "image/png": "[encoded data removed]",
      "text/plain": [
       "<IPython.core.display.Image object>"
      ]
     },
     "metadata": {},
     "output_type": "display_data"
    }
   ],
   "source": [
    "// Create Likelihood function L(x|mu,sigma) for all x in toy data\n",
    "RooAbsReal* nll = g.createNLL(*toyData) ;\n",
    "\n",
    "// ML estimation of model parameters mean,width\n",
    "RooMinimizer m(*nll) ;\n",
    "m.migrad() ; // Minimization\n",
    "m.hesse() ; // Hessian error analysis\n",
    "\n",
    "// Result of minimisation and error analysis is propagated to variabel objects representing model parameters\n",
    "mean.Print() ;\n",
    "width.Print() ;\n",
    "\n",
    "// Visualize likelihood L(mu, sigma) at sigma = sigma_hat in range 2.9<mu<3.1\n",
    "RooPlot* frame2 = mean.frame(2.9,3.1) ;\n",
    "nll->plotOn(frame2) ;\n",
    "frame2->Draw() ;\n",
    "c1->Draw()"
   ]
  },
  {
   "cell_type": "code",
   "execution_count": 5,
   "metadata": {},
   "outputs": [
    {
     "name": "stderr",
     "output_type": "stream",
     "text": [
      "Info in <TCanvas::Print>: png file ../docs/source/docs-fig02.png has been created\n"
     ]
    }
   ],
   "source": [
    "c1->SaveAs(\"../docs/source/docs-fig02.png\");"
   ]
  }
 ],
 "metadata": {
  "kernelspec": {
   "display_name": "ROOT C++",
   "language": "c++",
   "name": "root"
  },
  "language_info": {
   "codemirror_mode": "text/x-c++src",
   "file_extension": ".C",
   "mimetype": " text/x-c++src",
   "name": "c++"
  }
 },
 "nbformat": 4,
 "nbformat_minor": 2
}
